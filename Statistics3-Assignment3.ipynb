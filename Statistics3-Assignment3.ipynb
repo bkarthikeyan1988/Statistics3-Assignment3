{
 "cells": [
  {
   "cell_type": "markdown",
   "metadata": {},
   "source": [
    "# Sample question:\n",
    "You take the SAT and score 1100. The mean score for the SAT is 1026 and the standard deviation is 209. How well did you score on the test compared to the average test taker?\n",
    "\n",
    "z = (x - μ) / σ\n",
    "\n",
    "(1100 - 1026) / 209 = .354. This means that your score was .354 std devs above the mean.\n",
    "\n",
    "Look up your z-value in the z-table to see what percentage of test-takers scored below you. \n",
    "A z-score of .354 is .1368 + .5000* = .6368 or 63.68%."
   ]
  },
  {
   "cell_type": "code",
   "execution_count": 1,
   "metadata": {},
   "outputs": [
    {
     "data": {
      "text/plain": [
       "0.35406698564593303"
      ]
     },
     "metadata": {},
     "output_type": "display_data"
    }
   ],
   "source": [
    "import math\n",
    "import scipy.stats as st\n",
    "\n",
    "# SAT Total Score x\n",
    "x = 1100\n",
    "\n",
    "# Mean score μ let we do it as m\n",
    "m = 1026\n",
    "\n",
    "# Standard Deviation σ and let we do it as s\n",
    "s = 209\n",
    "\n",
    "# z = (x - μ) / σ\n",
    "\n",
    "z = (x - m) / s\n",
    "display(z)"
   ]
  },
  {
   "cell_type": "code",
   "execution_count": 2,
   "metadata": {},
   "outputs": [
    {
     "data": {
      "text/plain": [
       "0.6383556584353189"
      ]
     },
     "execution_count": 2,
     "metadata": {},
     "output_type": "execute_result"
    }
   ],
   "source": [
    "st.norm.cdf(z)"
   ]
  },
  {
   "cell_type": "markdown",
   "metadata": {},
   "source": [
    "__ 63.83% __"
   ]
  },
  {
   "cell_type": "code",
   "execution_count": null,
   "metadata": {},
   "outputs": [],
   "source": []
  }
 ],
 "metadata": {
  "kernelspec": {
   "display_name": "Python 3",
   "language": "python",
   "name": "python3"
  },
  "language_info": {
   "codemirror_mode": {
    "name": "ipython",
    "version": 3
   },
   "file_extension": ".py",
   "mimetype": "text/x-python",
   "name": "python",
   "nbconvert_exporter": "python",
   "pygments_lexer": "ipython3",
   "version": "3.6.4"
  }
 },
 "nbformat": 4,
 "nbformat_minor": 2
}
